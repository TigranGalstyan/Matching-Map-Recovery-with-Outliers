{
 "cells": [
  {
   "cell_type": "code",
   "execution_count": 89,
   "metadata": {},
   "outputs": [],
   "source": [
    "import numpy as np\n",
    "import matplotlib.pyplot as plt\n",
    "from ortools.graph import pywrapgraph\n",
    "\n",
    "plt.rcParams.update({\n",
    "    \"text.usetex\": True,\n",
    "    \"font.family\": \"sans-serif\",\n",
    "    \"font.sans-serif\": [\"Helvetica\"]})\n",
    "\n",
    "from mpl_toolkits.mplot3d import Axes3D\n",
    "\n",
    "from tqdm.notebook import tqdm\n",
    "from scipy.optimize import linear_sum_assignment\n",
    "import matplotlib"
   ]
  },
  {
   "cell_type": "code",
   "execution_count": 2,
   "metadata": {},
   "outputs": [],
   "source": [
    "def num_correct_matches(pie, pie_star, num_inliers):\n",
    "    return np.sum(pie[:num_inliers] == pie_star[:num_inliers])\n",
    "\n",
    "def num_in_out_matches(pie, pie_star, num_inliers):\n",
    "    return np.sum(pie[:num_inliers] >= num_inliers)\n",
    "\n",
    "def num_out_out_matches(pie, pie_star, num_inliers):\n",
    "    return np.sum(pie[num_inliers:] >= num_inliers)\n",
    "\n",
    "def num_out_in_matches(pie, pie_star, num_inliers):\n",
    "    return np.sum((pie[num_inliers:] < num_inliers) & (pie[num_inliers:] >= 0))\n",
    "\n",
    "def dist(x, y):\n",
    "    d =  np.linalg.norm(x - y) ** 2\n",
    "    return d if d > 0 else 0.0000001\n",
    "\n",
    "def error_rate(p1, p2):\n",
    "    return np.sum(p1 != p2) / len(p2)\n",
    "\n",
    "def precision_k(pie, pie_star, num_matched):\n",
    "    pie = np.array(pie)\n",
    "    pie_star = np.array(pie_star)\n",
    "    k = len(pie_star)\n",
    "    return np.sum(pie[:k] == pie_star) / num_matched\n",
    "\n",
    "def precision(pie, pie_star, k):\n",
    "    pie = np.array(pie)\n",
    "    pie_star = np.array(pie_star)\n",
    "    return np.sum(pie[:k] == pie_star) / k\n",
    "\n",
    "def recall_k(pie, pie_star, num_matched):\n",
    "    pie = np.array(pie)\n",
    "    pie_star = np.array(pie_star)\n",
    "    k = len(pie_star)\n",
    "    return np.sum(pie[k:] != -1) / num_matched\n",
    "\n",
    "def dist_nosquare(x, y):\n",
    "    d =  np.linalg.norm(x - y)\n",
    "    return d if d > 0 else 0.0000001\n",
    "\n",
    "def kappa_all(theta, theta_hash, pie, sigma):\n",
    "    n = len(theta)\n",
    "    m = len(theta_hash)\n",
    "    min_dist = np.inf\n",
    "    for j in range(m):\n",
    "        for i in range(n):\n",
    "            if i in pie and pie[i] == j:\n",
    "                continue\n",
    "            min_dist = min(min_dist, dist_nosquare(theta[i], theta_hash[j]))\n",
    "    return min_dist / sigma / np.sqrt(2)\n",
    "\n",
    "def kappa(theta_hash, pie):\n",
    "    n = len(pie)\n",
    "    m = len(theta_hash)\n",
    "    min_dist = np.inf\n",
    "    for j in range(m):\n",
    "        for i in range(n):\n",
    "            if pie[i] == j:\n",
    "                continue\n",
    "            min_dist = min(min_dist, dist(theta_hash[j], theta_hash[pie[i]]) ** (1/2))\n",
    "    return min_dist\n",
    "\n",
    "def kappa_hat(theta_hash, sigma_hash, pie):\n",
    "    n = len(pie)\n",
    "    m = len(theta_hash)\n",
    "    min_dist = np.inf\n",
    "    for j in range(m):\n",
    "        for i in range(n):\n",
    "            if pie[i] == j:\n",
    "                continue\n",
    "            min_dist = min(min_dist, \n",
    "                           dist(theta_hash[j], theta_hash[pie[i]]) ** (1/2) / ((sigma_hash[j] ** 2 + sigma_hash[pie[i]] ** 2) ** (1/2)))\n",
    "    return min_dist\n",
    "\n",
    "def kappa_outlier(theta_hash, sigma_hash, pie):\n",
    "    n = len(pie)\n",
    "    m = len(theta_hash)\n",
    "    im_comp = [i for i in range(m) if i not in pie]\n",
    "    min_dist = np.inf\n",
    "    for i in range(n):\n",
    "        for j in im_comp:\n",
    "            min_dist = min(min_dist, \n",
    "                           dist(theta_hash[pie[i]], theta_hash[j]) ** (1/2) / ((sigma_hash[j] ** 2 + sigma_hash[pie[i]] ** 2) ** (1/2)))\n",
    "    return min_dist\n",
    "\n",
    "def kappa_outlier_outlier(theta_hash, sigma_hash, theta, sigma, k):\n",
    "    m, n = len(sigma_hash), len(sigma)\n",
    "    min_dist = np.inf\n",
    "    for i in range(k, m):\n",
    "        for j in range(k, n):\n",
    "            min_dist = min(min_dist, \n",
    "                           dist(theta_hash[i], theta[j]) ** (1/2) / ((sigma_hash[i] ** 2 + sigma[j] ** 2) ** (1/2)))\n",
    "    return min_dist\n",
    "    \n",
    "\n",
    "def outlier_detection_error(star, prediction):\n",
    "    return sum([1 for i in prediction[:len(star)] if i != -1 and i not in star]) / len(star)\n",
    "\n",
    "def kappa_max(theta_hash, sigma_hash, pie):\n",
    "    n = len(pie)\n",
    "    m = len(theta_hash)\n",
    "    max_dist = -np.inf\n",
    "    for j in range(m):\n",
    "        for i in range(n):\n",
    "            if pie[i] == j:\n",
    "                continue\n",
    "            max_dist = max(max_dist, \n",
    "                           dist(theta_hash[j], theta_hash[pie[i]]) ** (1/2) / ((sigma_hash[j] ** 2 + sigma_hash[pie[i]] ** 2) ** (1/2)))\n",
    "    return max_dist\n",
    "\n",
    "def mincostflowcost(X, X_hash, pie, k):\n",
    "    s = 0\n",
    "    for i in range(k):\n",
    "        j = pie[i]\n",
    "        if j != -1:\n",
    "            s += dist(X[i], X_hash[j])\n",
    "    return s\n",
    "\n"
   ]
  },
  {
   "cell_type": "code",
   "execution_count": 75,
   "metadata": {},
   "outputs": [],
   "source": [
    "def greedy(X, X_hash, num_to_match=None, return_cost=False, progress_bar=False):\n",
    "    costs = [0]\n",
    "    cost = 0\n",
    "    if num_to_match is None:\n",
    "        num_to_match = len(X)\n",
    "    n, m = len(X), len(X_hash)\n",
    "    M = np.zeros((n, m))\n",
    "    if progress_bar:\n",
    "        iterable = tqdm(enumerate(X), desc='Calculating pairwise distances', total=n)\n",
    "    else:\n",
    "        iterable = enumerate(X)\n",
    "    for i, x in iterable:\n",
    "        for j, x_hash in enumerate(X_hash):\n",
    "            M[i, j] = dist(x, x_hash)\n",
    "    pie = -1 * np.ones(n, dtype=np.int32)\n",
    "    for _ in range(num_to_match):\n",
    "        i, j = np.unravel_index(M.argmin(), M.shape)\n",
    "        pie[i] = j\n",
    "        cost += M[i, j]\n",
    "        costs.append(cost)\n",
    "        M[:, j] = np.inf\n",
    "        M[i, :] = np.inf\n",
    "\n",
    "    if return_cost:\n",
    "        return pie, costs\n",
    "\n",
    "    return pie\n",
    "\n",
    "def LSS(X, X_hash):\n",
    "    M = np.zeros((len(X), len(X_hash)))\n",
    "    for i, x in enumerate(X):\n",
    "        for j, x_hash in enumerate(X_hash):\n",
    "            M[i, j] = dist(x, x_hash)\n",
    "            \n",
    "    row_ind, col_ind = linear_sum_assignment(M)\n",
    "    return col_ind\n",
    "\n",
    "def LSNS(X, X_hash, sigma_hash):\n",
    "    M = np.zeros((len(X), len(X_hash)))\n",
    "    for i, x in enumerate(X):\n",
    "        for j, x_hash in enumerate(X_hash):\n",
    "            M[i, j] = dist(x, x_hash) / (sigma_hash[j] ** 2 + sigma_hash[i] ** 2) ** (1/2)\n",
    "    \n",
    "    row_ind, col_ind = linear_sum_assignment(M)\n",
    "    return col_ind\n",
    "\n",
    "def LSL(X, X_hash):\n",
    "    M = np.zeros((len(X), len(X_hash)))\n",
    "    for i, x in enumerate(X):\n",
    "        for j, x_hash in enumerate(X_hash):\n",
    "            M[i, j] = np.log(dist(x, x_hash))\n",
    "    \n",
    "    row_ind, col_ind = linear_sum_assignment(M)\n",
    "    return col_ind\n",
    "\n",
    "\n",
    "def MinCostFlow(X, X_hash, k = None, scale = 10**4, sigma=None):\n",
    "    n, m = (len(X), len(X_hash))\n",
    "    M = np.zeros(n * m)\n",
    "    for i, x in enumerate(X):\n",
    "        for j, x_hash in enumerate(X_hash):\n",
    "            M[i * m + j] = dist(x, x_hash)\n",
    "    \n",
    "    if sigma is not None:\n",
    "        M = M / 2 / sigma / sigma\n",
    "\n",
    "#     if sigma is not None:\n",
    "#         scale = scale * 2 * sigma * sigma\n",
    "\n",
    "    min_cost_flow = pywrapgraph.SimpleMinCostFlow()\n",
    "    \n",
    "    start_nodes = np.concatenate((np.zeros(n), \n",
    "                                  np.repeat(np.arange(1, n + 1), m), \n",
    "                                  np.arange(n + 1, n + m + 1))).astype(int).tolist()\n",
    "    \n",
    "    end_nodes = np.concatenate((np.arange(1, n + 1), \n",
    "                                np.tile(np.arange(n + 1, n + m + 1), n), \n",
    "                                np.ones(m) * (n + m + 1))).astype(int).tolist()\n",
    "    \n",
    "    num_overall_edges = (n + 1) * (m + 1) - 1\n",
    "    capacities = np.ones(num_overall_edges).astype(int).tolist()\n",
    "    costs = (np.concatenate((np.zeros(n), M * scale, np.zeros(m))).astype(int).tolist())\n",
    "    \n",
    "    source = 0\n",
    "    sink = n + m + 1\n",
    "    if k is None:\n",
    "        num_to_match = n\n",
    "    else:\n",
    "        num_to_match = k\n",
    "    supplies = [num_to_match] + [0] * (n + m) + [-num_to_match]\n",
    "    \n",
    "    # Add each arc.\n",
    "    for i in range(len(start_nodes)):\n",
    "        min_cost_flow.AddArcWithCapacityAndUnitCost(start_nodes[i],\n",
    "                                                    end_nodes[i], capacities[i],\n",
    "                                                    costs[i])\n",
    "    # Add node supplies.\n",
    "    for i in range(len(supplies)):\n",
    "        min_cost_flow.SetNodeSupply(i, supplies[i])\n",
    "    \n",
    "    status = min_cost_flow.Solve()\n",
    "    assignment = -1 * np.ones(n, dtype=np.int32)\n",
    "    cost = min_cost_flow.OptimalCost() / scale\n",
    "    \n",
    "    if status == min_cost_flow.OPTIMAL:\n",
    "        for arc in range(min_cost_flow.NumArcs()):\n",
    "        \n",
    "            if min_cost_flow.Tail(arc) != source and min_cost_flow.Head(arc) != sink:\n",
    "\n",
    "                if min_cost_flow.Flow(arc) > 0:\n",
    "                    assignment[min_cost_flow.Tail(arc) - 1] = min_cost_flow.Head(arc) - n - 1\n",
    "    else:\n",
    "        print('There was an issue with the min cost flow input.')\n",
    "        print(f'Status: {status}')\n",
    "\n",
    "    return assignment, cost \n"
   ]
  },
  {
   "cell_type": "markdown",
   "metadata": {},
   "source": [
    "# Data Generation"
   ]
  },
  {
   "cell_type": "code",
   "execution_count": 5,
   "metadata": {},
   "outputs": [],
   "source": [
    "def generate_theta_sigma_hash_outlier_both_sides(m, n, k, d, pie_star, tau=1, sigma_amp=1):\n",
    "    theta_hash = np.random.normal(0, tau, size = (m, d))\n",
    "    theta = np.random.normal(0, tau, size = (n, d))\n",
    "    theta[:k] = theta_hash[pie_star]\n",
    "    for i in range(m):\n",
    "        if i in pie_star:\n",
    "            continue\n",
    "        theta_hash[i, :] += np.ones((d,)) * tau\n",
    "        \n",
    "    for i in range(k, n):\n",
    "        theta[i, :] += np.ones((d,)) * 2 * tau\n",
    "    \n",
    "    sigma_hash = np.ones((m,)) * sigma_amp\n",
    "    sigma = np.ones((n,)) * sigma_amp\n",
    "    \n",
    "    return theta_hash, sigma_hash, theta, sigma\n"
   ]
  },
  {
   "cell_type": "markdown",
   "metadata": {},
   "source": [
    "## Experiment 1"
   ]
  },
  {
   "cell_type": "code",
   "execution_count": 11,
   "metadata": {},
   "outputs": [],
   "source": [
    "def precision_vs_separation(n=100, k=50, d=50, tau=1, sig=1):\n",
    "    m = n\n",
    "    res = {}\n",
    "\n",
    "    pie_star = np.arange(k)\n",
    "    \n",
    "    theta_hash, sigma_hash, theta, sigma = generate_theta_sigma_hash_outlier_both_sides(m, n, k, d, pie_star, tau, sigma_amp=sig)\n",
    "#     theta_hash, sigma_hash, theta, sigma = generate_theta_sigma_hash_outlier_both_sides_cauchy(m, n, k, d, pie_star, tau, sigma_amp=sig)\n",
    "\n",
    "    X = theta + (sigma * np.random.normal(size=(d, n))).T\n",
    "    X_hash = theta_hash + (sigma_hash * np.random.normal(size=(d, m))).T\n",
    "    res['kappa_all'] = kappa_all(theta, theta_hash, pie_star, sigma=sig)\n",
    "#     res['theorem1_rhs'] = theorem1_rhs(n, k, d, 0.1)\n",
    "\n",
    "    MinCostFlow_pie, cost = MinCostFlow(X, X_hash, k)\n",
    "\n",
    "    res['precision'] = precision(MinCostFlow_pie, pie_star, k)\n",
    "    res['cost'] = cost\n",
    "\n",
    "    return res"
   ]
  },
  {
   "cell_type": "code",
   "execution_count": 15,
   "metadata": {},
   "outputs": [],
   "source": [
    "def recovery_for_k_lessthan_kstar(n=100, k=50, d=50, tau=1, progress_bar=True, sigma_amp=1.):\n",
    "    m = n\n",
    "    res = {}\n",
    "\n",
    "    pie_star = np.arange(k)\n",
    "    \n",
    "    theta_hash, sigma_hash, theta, sigma = generate_theta_sigma_hash_outlier_both_sides(\n",
    "        m, n, k, d, pie_star, tau, sigma_amp=sigma_amp)\n",
    "    \n",
    "#     theta_hash, sigma_hash, theta, sigma = generate_theta_sigma_hash_outlier_both_sides_cauchy(\n",
    "#         m, n, k, d, pie_star, tau, sigma_amp=sigma_amp)\n",
    "\n",
    "    X = theta + (sigma * np.random.normal(size=(d, n))).T\n",
    "    X_hash = theta_hash + (sigma_hash * np.random.normal(size=(d, m))).T\n",
    "    res['kappa_all'] = kappa_all(theta, theta_hash, pie_star, sigma=sigma_amp)\n",
    "    res['precision'] = []\n",
    "    \n",
    "    for i in range(1, k + 1):\n",
    "        MinCostFlow_pie, cost = MinCostFlow(X, X_hash, i)\n",
    "        \n",
    "        res['precision'].append(precision_k(MinCostFlow_pie, pie_star, i))\n",
    "\n",
    "    return res"
   ]
  },
  {
   "cell_type": "code",
   "execution_count": 14,
   "metadata": {},
   "outputs": [
    {
     "data": {
      "application/vnd.jupyter.widget-view+json": {
       "model_id": "6628be378bc74e1ab606acf184589294",
       "version_major": 2,
       "version_minor": 0
      },
      "text/plain": [
       "  0%|          | 0/20 [00:00<?, ?it/s]"
      ]
     },
     "metadata": {},
     "output_type": "display_data"
    },
    {
     "data": {
      "application/vnd.jupyter.widget-view+json": {
       "model_id": "2748a505784d491d9e349f1e07567871",
       "version_major": 2,
       "version_minor": 0
      },
      "text/plain": [
       "  0%|          | 0/20 [00:00<?, ?it/s]"
      ]
     },
     "metadata": {},
     "output_type": "display_data"
    }
   ],
   "source": [
    "num_exp = 200\n",
    "n=100\n",
    "k=60\n",
    "d=100\n",
    "amp=1.5\n",
    "\n",
    "precision_vs_separation_sig_1 = [precision_vs_separation(n, k, d, tau = amp * (1 -  i / num_exp), sig=1) for i in tqdm(range(num_exp))]\n",
    "precision_vs_separation_sig_2 = [precision_vs_separation(n, k, d, tau = 2 * amp * (1 -  i / num_exp), sig=2) for i in tqdm(range(num_exp))]\n",
    "\n"
   ]
  },
  {
   "cell_type": "code",
   "execution_count": 16,
   "metadata": {},
   "outputs": [
    {
     "data": {
      "application/vnd.jupyter.widget-view+json": {
       "model_id": "a9873291aeaf41febbdea935bd837235",
       "version_major": 2,
       "version_minor": 0
      },
      "text/plain": [
       "  0%|          | 0/20 [00:00<?, ?it/s]"
      ]
     },
     "metadata": {},
     "output_type": "display_data"
    },
    {
     "data": {
      "application/vnd.jupyter.widget-view+json": {
       "model_id": "20ad2a9260404eb59689bc90522e3676",
       "version_major": 2,
       "version_minor": 0
      },
      "text/plain": [
       "  0%|          | 0/20 [00:00<?, ?it/s]"
      ]
     },
     "metadata": {},
     "output_type": "display_data"
    }
   ],
   "source": [
    "num_exp = 200\n",
    "n=100\n",
    "k=60\n",
    "d=100\n",
    "amp = 3\n",
    "\n",
    "recovery_sig_1 = [recovery_for_k_lessthan_kstar(n, k, d, progress_bar=False, tau = amp * (1 -  (i / num_exp) ** 3), sigma_amp=1) for i in tqdm(range(num_exp))]\n",
    "recovery_sig_2 = [recovery_for_k_lessthan_kstar(n, k, d, progress_bar=False, tau = amp * (1 -  (i / num_exp) ** 3), sigma_amp=2) for i in tqdm(range(num_exp))]\n",
    "\n"
   ]
  },
  {
   "cell_type": "code",
   "execution_count": 48,
   "metadata": {},
   "outputs": [
    {
     "data": {
      "image/png": "[encoded data removed]",
      "text/plain": [
       "<Figure size 2400x600 with 2 Axes>"
      ]
     },
     "metadata": {},
     "output_type": "display_data"
    }
   ],
   "source": [
    "fig, ax = plt.subplots(1, 2, figsize=(24, 6))\n",
    "\n",
    "ax[0].scatter([r[r'kappa_all'] for r in precision_vs_separation_sig_1],\n",
    "              [r[r'precision'] for r in precision_vs_separation_sig_1],\n",
    "            label=r'$\\sigma = \\sigma^\\# = 1$', marker = \"^\");\n",
    "ax[0].scatter([r[r'kappa_all'] for r in precision_vs_separation_sig_2],\n",
    "              [r[r'precision'] for r in precision_vs_separation_sig_2],\n",
    "            label=r'$\\sigma = \\sigma^\\# = 2$');\n",
    "\n",
    "kappa_mean_1 = np.mean([r['kappa_all'] for r in recovery_sig_1])\n",
    "kappa_mean_2 = np.mean([r['kappa_all'] for r in recovery_sig_2])\n",
    "\n",
    "ax[1].plot(range(1, k + 1), [np.mean([r['precision'][i] for r in recovery_sig_1]) for i in range(k)],\n",
    "         marker = \"^\", markersize=8, label=r'  $\\bar\\kappa_{{\\mathrm{{all}}}} \\approx {k:.1f}$'.format(k=kappa_mean_1));\n",
    "ax[1].plot(range(1, k + 1), [np.mean([r['precision'][i] for r in recovery_sig_2]) for i in range(k)],\n",
    "         marker = \".\", markersize=12, label=r'  $\\bar\\kappa_{{\\mathrm{{all}}}} \\approx {k:.1f}$'.format(k=kappa_mean_2));\n",
    "\n",
    "ax[1].set_xlabel(r'$ k_{\\mathrm{min}} $', fontsize=30);\n",
    "\n",
    "ax[1].yaxis.tick_right()\n",
    "ax[0].set_ylim([-0.02, 1.02]);\n",
    "ax[1].set_ylim([-0.02, 1.02]);\n",
    "\n",
    "ax[0].set_xlabel(r'$ \\bar\\kappa_{\\mathrm{all}} $', fontsize=30);\n",
    "\n",
    "ax[0].tick_params(axis='both', which='major', labelsize=25)\n",
    "ax[1].tick_params(axis='both', which='major', labelsize=25)\n",
    "\n",
    "ax[0].set_ylabel(r'$\\mathrm{Precision} $', fontsize=35);\n",
    "\n",
    "# # plt.ylim([0, 1.1])\n",
    "ax[0].legend(fontsize=30, loc='lower right', framealpha=0.7);\n",
    "ax[1].legend(fontsize=30, loc='lower right', framealpha=0.7);\n",
    "\n",
    "plt.subplots_adjust(wspace=0.1, hspace=10)\n"
   ]
  },
  {
   "cell_type": "code",
   "execution_count": null,
   "metadata": {},
   "outputs": [],
   "source": []
  },
  {
   "cell_type": "markdown",
   "metadata": {},
   "source": [
    "## Experiment 2"
   ]
  },
  {
   "cell_type": "code",
   "execution_count": 49,
   "metadata": {},
   "outputs": [],
   "source": [
    "def threshold(n, d, alpha=0.01):\n",
    "    return  4 * max(d * np.log(4 * n * n / alpha) ** (1/2),\n",
    "                   np.log(8 * n * n / alpha) )\n"
   ]
  },
  {
   "cell_type": "code",
   "execution_count": 50,
   "metadata": {},
   "outputs": [],
   "source": [
    "def k_star_estimation(n, k, d, tau=1, progress_bar=True, sigma_amp=1):\n",
    "    m = n\n",
    "    res = {}\n",
    "\n",
    "    pie_star = np.arange(k)\n",
    "    \n",
    "    theta_hash, sigma_hash, theta, sigma = generate_theta_sigma_hash_outlier_both_sides(\n",
    "        m, n, k, d, pie_star, tau, sigma_amp=sigma_amp)\n",
    "\n",
    "    X = theta + (sigma * np.random.normal(size=(d, n))).T\n",
    "    X_hash = theta_hash + (sigma_hash * np.random.normal(size=(d, m))).T\n",
    "    res['kappa_all'] = kappa_all(theta, theta_hash, pie_star, sigma=sigma_amp)\n",
    "    \n",
    "    thr = threshold(n, d)    \n",
    "    MinCostFlow_pie_prev, cost_prev = MinCostFlow(X, X_hash, n)\n",
    "    \n",
    "    for i in range(n - 1, 0, -1):\n",
    "        MinCostFlow_pie, cost = MinCostFlow(X, X_hash, i)\n",
    "        if cost_prev - cost <= (d + thr) * sigma_amp * sigma_amp:\n",
    "            break\n",
    "        MinCostFlow_pie_prev, cost_prev = MinCostFlow_pie, cost\n",
    "\n",
    "    res['k_alpha'] = i + 1\n",
    "\n",
    "    return res"
   ]
  },
  {
   "cell_type": "code",
   "execution_count": 57,
   "metadata": {},
   "outputs": [
    {
     "data": {
      "application/vnd.jupyter.widget-view+json": {
       "model_id": "74842d159b9847e68fbd6b34f9a44e44",
       "version_major": 2,
       "version_minor": 0
      },
      "text/plain": [
       "  0%|          | 0/20 [00:00<?, ?it/s]"
      ]
     },
     "metadata": {},
     "output_type": "display_data"
    }
   ],
   "source": [
    "num_exp = 200\n",
    "n=100\n",
    "k=60\n",
    "d=100\n",
    "amp = 6\n",
    "\n",
    "kstar_est_rs_1 = [k_star_estimation(n, k, d, progress_bar=False, tau = 1 * amp * (1 -  (i / num_exp)), sigma_amp=1) for i in tqdm(range(num_exp))]\n"
   ]
  },
  {
   "cell_type": "code",
   "execution_count": 53,
   "metadata": {},
   "outputs": [
    {
     "data": {
      "application/vnd.jupyter.widget-view+json": {
       "model_id": "af46d076f2e849719da92e78a2f6e5a6",
       "version_major": 2,
       "version_minor": 0
      },
      "text/plain": [
       "  0%|          | 0/20 [00:00<?, ?it/s]"
      ]
     },
     "metadata": {},
     "output_type": "display_data"
    }
   ],
   "source": [
    "amp = 12\n",
    "\n",
    "kstar_est_rs_2 = [k_star_estimation(n, k, d, progress_bar=False, tau = 1 * amp * (1 -  (i / num_exp)), sigma_amp=2) for i in tqdm(range(num_exp))]\n"
   ]
  },
  {
   "cell_type": "code",
   "execution_count": 62,
   "metadata": {},
   "outputs": [
    {
     "data": {
      "image/png": "[encoded data removed]",
      "text/plain": [
       "<Figure size 1200x500 with 1 Axes>"
      ]
     },
     "metadata": {},
     "output_type": "display_data"
    }
   ],
   "source": [
    "plt.figure(figsize=(12, 5))\n",
    "\n",
    "plt.scatter([r[r'kappa_all'] for r in kstar_est_rs_1], [r[r'k_alpha'] for r in kstar_est_rs_1], s=20, marker='^',\n",
    "            label=r'$\\sigma = \\sigma^\\# = 1$')#, c=[r[r'k_alpha'] for r in rs]);\n",
    "plt.scatter([r[r'kappa_all'] for r in kstar_est_rs_2], [r[r'k_alpha'] for r in kstar_est_rs_2], s=15,\n",
    "            label=r'$\\sigma = \\sigma^\\# = 2$')#, c=[r[r'k_alpha'] for r in rs]);\n",
    "\n",
    "plt.xticks(fontsize=20)\n",
    "plt.xlabel(r'$ \\bar\\kappa_{\\mathrm{all}} $', fontsize=30);\n",
    "\n",
    "ticks, labels = plt.yticks()\n",
    "plt.yticks(ticks[1::2], fontsize=20)\n",
    "plt.ylabel(r'$ \\widehat{k}$', fontsize=25, rotation=0);\n",
    "plt.legend(fontsize=20, loc='center right');\n",
    "\n",
    "plt.gcf().subplots_adjust(bottom=0.15)\n",
    "\n",
    "plt.subplots_adjust(bottom=0.15)\n",
    "\n",
    "plt.savefig('k_alpha.pdf', dpi=10, format='pdf')\n"
   ]
  },
  {
   "cell_type": "markdown",
   "metadata": {},
   "source": [
    "## Experiment 3"
   ]
  },
  {
   "cell_type": "code",
   "execution_count": 80,
   "metadata": {},
   "outputs": [],
   "source": [
    "def lambda_nmda(n, m, d, alpha = 0.01):\n",
    "    return 4 * max(np.power(d * np.log(4 * n * m / alpha), 1 / 4),\n",
    "                   np.power(8 * np.log(4 * n * m / alpha), 1 / 2) )\n",
    "\n",
    "def k_sig_joint_est(X, X_hash, matcher=greedy):\n",
    "    n = len(X)\n",
    "    m = len(X_hash)\n",
    "    d = len(X[0])\n",
    "    lambda_nmd = lambda_nmda(n, m, d)\n",
    "    lbd = np.square(lambda_nmd) / 4\n",
    "    gamma = np.square(lambda_nmd) / 4 / d / 8\n",
    "    res = {}\n",
    "    \n",
    "    _, costs = matcher(X, X_hash, num_to_match=n, return_cost=True)\n",
    "    \n",
    "    for k in range(1, n - 1):\n",
    "        sigma_hat_sq = costs[k] / k / d\n",
    "        if costs[k + 1] - costs[k] > (d + lbd) * sigma_hat_sq / (1 - gamma):\n",
    "            break\n",
    "            \n",
    "    res['k_alpha'] = k\n",
    "    res['sigma_hat'] = np.sqrt(sigma_hat_sq / 2)\n",
    "    return res, costs"
   ]
  },
  {
   "cell_type": "code",
   "execution_count": 81,
   "metadata": {},
   "outputs": [],
   "source": [
    "def estimate_sigma_sq(X, X_hash, k, d, gamma = 1.95):\n",
    "    _, cost = MinCostFlow(X, X_hash, k)\n",
    "    return cost / (d * k  - gamma * np.sqrt(k * d)) # / 2"
   ]
  },
  {
   "cell_type": "code",
   "execution_count": 82,
   "metadata": {},
   "outputs": [],
   "source": [
    "def joint_estimation(n, k, d, tau=1, progress_bar=True, sig=1):\n",
    "    m = n\n",
    "    res = {}\n",
    "\n",
    "    pie_star = np.arange(k)\n",
    "    \n",
    "    theta_hash, sigma_hash, theta, sigma = generate_theta_sigma_hash_outlier_both_sides(m, n, k, d, pie_star, tau, sig)\n",
    "\n",
    "    X = theta + (sigma * np.random.normal(size=(d, n))).T\n",
    "    X_hash = theta_hash + (sigma_hash * np.random.normal(size=(d, m))).T\n",
    "    \n",
    "    res, _ = k_sig_joint_est(X, X_hash)\n",
    "    res['kappa_all'] = kappa_all(theta, theta_hash, pie_star, sigma = sig)\n",
    "    \n",
    "\n",
    "    return res"
   ]
  },
  {
   "cell_type": "code",
   "execution_count": 84,
   "metadata": {},
   "outputs": [
    {
     "data": {
      "text/plain": [
       "{'k_alpha': 98,\n",
       " 'sigma_hat': 3.422835401082145,\n",
       " 'kappa_all': 15.598447567373634}"
      ]
     },
     "execution_count": 84,
     "metadata": {},
     "output_type": "execute_result"
    }
   ],
   "source": [
    "joint_estimation(n, k, d, progress_bar=False, tau = 4, sig = 2)"
   ]
  },
  {
   "cell_type": "code",
   "execution_count": 86,
   "metadata": {},
   "outputs": [
    {
     "data": {
      "application/vnd.jupyter.widget-view+json": {
       "model_id": "928198681a7d479589ce404c05d9015e",
       "version_major": 2,
       "version_minor": 0
      },
      "text/plain": [
       "  0%|          | 0/100 [00:00<?, ?it/s]"
      ]
     },
     "metadata": {},
     "output_type": "display_data"
    },
    {
     "data": {
      "application/vnd.jupyter.widget-view+json": {
       "model_id": "b059dace2aef4294b3dddc3ce7556e77",
       "version_major": 2,
       "version_minor": 0
      },
      "text/plain": [
       "  0%|          | 0/100 [00:00<?, ?it/s]"
      ]
     },
     "metadata": {},
     "output_type": "display_data"
    }
   ],
   "source": [
    "num_exp = 100\n",
    "n=100\n",
    "k=60\n",
    "d=100\n",
    "tau_amp = 16\n",
    "\n",
    "joint_estimation_rs_1 = [joint_estimation(n, k, d, progress_bar=False, tau = tau_amp * (1 -  (i / num_exp )), sig = 1) for i in tqdm(range(num_exp))]\n",
    "joint_estimation_rs_2 = [joint_estimation(n, k, d, progress_bar=False, tau = 2 * tau_amp * (1 -  (i / num_exp )), sig = 2) for i in tqdm(range(num_exp))]\n"
   ]
  },
  {
   "cell_type": "code",
   "execution_count": 91,
   "metadata": {},
   "outputs": [
    {
     "data": {
      "image/png": "[encoded data removed]",
      "text/plain": [
       "<Figure size 800x600 with 2 Axes>"
      ]
     },
     "metadata": {},
     "output_type": "display_data"
    }
   ],
   "source": [
    "fig, ax = plt.subplots(2, 1, figsize=(8, 6))\n",
    "\n",
    "ax[0].scatter([r[r'kappa_all'] for r in joint_estimation_rs_1], [r[r'k_alpha'] for r in joint_estimation_rs_1], \n",
    "              label=r'$ \\sigma = \\sigma^\\# = 1$', marker='^')#, c=[r[r'k_alpha'] for r in rs]);\n",
    "\n",
    "ax[1].scatter([r[r'kappa_all'] for r in joint_estimation_rs_1], [r[r'sigma_hat']**2 * 2 for r in joint_estimation_rs_1],\n",
    "              label=r'$ \\sigma = \\sigma^\\# = 1$',  marker='^')\n",
    "\n",
    "\n",
    "ax[0].scatter([r[r'kappa_all'] for r in joint_estimation_rs_2], [r[r'k_alpha'] for r in joint_estimation_rs_2], s = 15, \n",
    "              label=r'$ \\sigma = \\sigma^\\# = 2$')\n",
    "\n",
    "ax[1].scatter([r[r'kappa_all'] for r in joint_estimation_rs_2], [r[r'sigma_hat']**2 * 2 for r in joint_estimation_rs_2], s=15,\n",
    "              label=r'$ \\sigma = \\sigma^\\# = 2$')\n",
    "\n",
    "ax[1].set_yscale(matplotlib.scale.LogScale(ax[1], base=2))\n",
    "\n",
    "ax[1].set_yticks([1.000e+00, 2, 4.000e+00, 8, 1.600e+01, 32, 6.400e+01])\n",
    "\n",
    "ax[1].set_xlabel(r'$ k_{\\mathrm{min}} $', fontsize=30);\n",
    "\n",
    "ax[1].set_xlabel(r'$ \\bar\\kappa_{\\mathrm{all}} $', fontsize=30);\n",
    "\n",
    "ax[0].tick_params(axis='both', which='major', labelsize=15)\n",
    "ax[1].tick_params(axis='both', which='major', labelsize=15)\n",
    "ax[0].set_ylabel(r'$ \\widehat{k} ~~\\, $', fontsize=20, rotation=0, labelpad=10);\n",
    "ax[1].set_ylabel(r'$ \\bar{\\sigma}^2_{\\widehat{k}} $', fontsize=20, rotation=0, labelpad=15);\n",
    "\n",
    "plt.gcf().subplots_adjust(bottom=0.2)\n",
    "\n",
    "plt.subplots_adjust(bottom=0.2)\n",
    "ax[0].legend(fontsize=20)\n",
    "\n",
    "plt.subplots_adjust(wspace=0.3, hspace=0.)\n",
    "plt.tight_layout()\n",
    "# plt.savefig('joint_estimation.pdf', dpi=10, format='pdf')\n"
   ]
  },
  {
   "cell_type": "code",
   "execution_count": null,
   "metadata": {},
   "outputs": [],
   "source": []
  }
 ],
 "metadata": {
  "kernelspec": {
   "display_name": "Python 3 (ipykernel)",
   "language": "python",
   "name": "python3"
  },
  "language_info": {
   "codemirror_mode": {
    "name": "ipython",
    "version": 3
   },
   "file_extension": ".py",
   "mimetype": "text/x-python",
   "name": "python",
   "nbconvert_exporter": "python",
   "pygments_lexer": "ipython3",
   "version": "3.9.0"
  }
 },
 "nbformat": 4,
 "nbformat_minor": 2
}
