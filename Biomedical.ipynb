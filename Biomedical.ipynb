{
 "cells": [
  {
   "cell_type": "markdown",
   "id": "14b93ef4",
   "metadata": {},
   "source": [
    "# Experiments on Biomedical Data"
   ]
  },
  {
   "cell_type": "code",
   "execution_count": 39,
   "id": "73153771",
   "metadata": {},
   "outputs": [],
   "source": [
    "from sklearn.metrics import confusion_matrix, ConfusionMatrixDisplay, accuracy_score\n",
    "import numpy as np\n",
    "import matplotlib.pyplot as plt\n",
    "import scanpy as sc\n",
    "from tqdm import tqdm_notebook as tqdm\n",
    "import random\n",
    "random.seed(0)\n",
    "\n",
    "import numpy as np\n",
    "np.random.seed(0)\n",
    "\n",
    "from tqdm import tqdm\n",
    "\n",
    "import cv2 as cv\n",
    "\n",
    "import matplotlib.pyplot as plt\n",
    "plt.rcParams.update({\n",
    "    \"text.usetex\": True,\n",
    "    \"font.family\": \"sans-serif\",\n",
    "    \"font.sans-serif\": [\"Helvetica\"]})\n"
   ]
  },
  {
   "cell_type": "code",
   "execution_count": 8,
   "id": "afd77d7e",
   "metadata": {},
   "outputs": [],
   "source": [
    "def select_active_rnas_inplace(adata, n_top):\n",
    "    sc.pp.highly_variable_genes(adata, min_mean=0.0125, max_mean=3, min_disp=0.5,\n",
    "                                n_top_genes=n_top, inplace=True)\n",
    "    adata = adata[:, adata.var.highly_variable]\n",
    "    return adata"
   ]
  },
  {
   "cell_type": "code",
   "execution_count": 9,
   "id": "272c319d",
   "metadata": {},
   "outputs": [],
   "source": [
    "celseq_data = sc.read_csv('rna_datasets/celseq2.csv').transpose()\n",
    "with open('rna_datasets/celseq2_celltype.csv') as f:\n",
    "    celseq_celltypes = list(map(lambda x: x.strip().replace('_', '-'), f.readlines()))[1:]\n",
    "celseq_data.obs['type'] = celseq_celltypes\n",
    "\n",
    "sc.pp.filter_genes(celseq_data, min_cells=25)\n"
   ]
  },
  {
   "cell_type": "code",
   "execution_count": 10,
   "id": "7bf5c2e0",
   "metadata": {},
   "outputs": [
    {
     "data": {
      "text/plain": [
       "AnnData object with n_obs × n_vars = 2285 × 15071\n",
       "    obs: 'type'\n",
       "    var: 'n_cells'"
      ]
     },
     "execution_count": 10,
     "metadata": {},
     "output_type": "execute_result"
    }
   ],
   "source": [
    "celseq_data"
   ]
  },
  {
   "cell_type": "code",
   "execution_count": 11,
   "id": "e61600ad",
   "metadata": {},
   "outputs": [],
   "source": [
    "smartseq_data = sc.read_csv('rna_datasets/smartseq2.csv').transpose()\n",
    "with open('rna_datasets/smartseq2_celltype.csv') as f:\n",
    "    smartseq_celltypes = list(map(lambda x: x.strip().replace('_', '-'), f.readlines()))[1:]\n",
    "smartseq_data.obs['type'] = smartseq_celltypes\n",
    "\n",
    "sc.pp.filter_genes(smartseq_data, min_cells=25)"
   ]
  },
  {
   "cell_type": "code",
   "execution_count": 12,
   "id": "b14527e6",
   "metadata": {},
   "outputs": [
    {
     "data": {
      "text/plain": [
       "AnnData object with n_obs × n_vars = 2394 × 17144\n",
       "    obs: 'type'\n",
       "    var: 'n_cells'"
      ]
     },
     "execution_count": 12,
     "metadata": {},
     "output_type": "execute_result"
    }
   ],
   "source": [
    "smartseq_data"
   ]
  },
  {
   "cell_type": "code",
   "execution_count": null,
   "id": "c63c2af1",
   "metadata": {},
   "outputs": [],
   "source": []
  },
  {
   "cell_type": "code",
   "execution_count": 13,
   "id": "d9eade26",
   "metadata": {},
   "outputs": [],
   "source": [
    "sc.pp.normalize_total(celseq_data, target_sum=10000)\n",
    "sc.pp.normalize_total(smartseq_data, target_sum=10000)"
   ]
  },
  {
   "cell_type": "code",
   "execution_count": 14,
   "id": "83adf55a",
   "metadata": {},
   "outputs": [],
   "source": [
    "sc.pp.log1p(celseq_data)\n",
    "sc.pp.log1p(smartseq_data)"
   ]
  },
  {
   "cell_type": "code",
   "execution_count": 15,
   "id": "1d72dad6",
   "metadata": {},
   "outputs": [],
   "source": [
    "celseq_data = select_active_rnas_inplace(celseq_data, 5000)\n",
    "smartseq_data = select_active_rnas_inplace(smartseq_data, 5000)"
   ]
  },
  {
   "cell_type": "code",
   "execution_count": 16,
   "id": "6bc8bd1f",
   "metadata": {},
   "outputs": [],
   "source": [
    "rna_intersection = list(set(celseq_data.var_names.to_list()).intersection(smartseq_data.var_names.to_list()))"
   ]
  },
  {
   "cell_type": "code",
   "execution_count": 17,
   "id": "4c61f262",
   "metadata": {},
   "outputs": [
    {
     "data": {
      "text/plain": [
       "2808"
      ]
     },
     "execution_count": 17,
     "metadata": {},
     "output_type": "execute_result"
    }
   ],
   "source": [
    "len(rna_intersection)"
   ]
  },
  {
   "cell_type": "code",
   "execution_count": 18,
   "id": "914d5ec2",
   "metadata": {},
   "outputs": [],
   "source": [
    "celseq_cell_vectors = celseq_data[:, rna_intersection]\n",
    "smartseq_cell_vectors = smartseq_data[:, rna_intersection]"
   ]
  },
  {
   "cell_type": "code",
   "execution_count": 19,
   "id": "35694c5c",
   "metadata": {},
   "outputs": [
    {
     "data": {
      "text/plain": [
       "((2285, 2808), (2394, 2808))"
      ]
     },
     "execution_count": 19,
     "metadata": {},
     "output_type": "execute_result"
    }
   ],
   "source": [
    "celseq_cell_vectors.shape, smartseq_cell_vectors.shape"
   ]
  },
  {
   "cell_type": "code",
   "execution_count": null,
   "id": "3b9ea595",
   "metadata": {},
   "outputs": [],
   "source": []
  },
  {
   "cell_type": "code",
   "execution_count": 18,
   "id": "bc5c85f7",
   "metadata": {},
   "outputs": [
    {
     "name": "stderr",
     "output_type": "stream",
     "text": [
      "/home/tigrann/miniconda3/envs/cv/lib/python3.9/site-packages/scanpy/preprocessing/_normalization.py:170: UserWarning: Received a view of an AnnData. Making a copy.\n",
      "  view_to_actual(adata)\n"
     ]
    },
    {
     "data": {
      "image/png": "[encoded data removed]",
      "text/plain": [
       "<Figure size 360x396 with 1 Axes>"
      ]
     },
     "metadata": {
      "needs_background": "light"
     },
     "output_type": "display_data"
    }
   ],
   "source": [
    "sc.pl.highest_expr_genes(celseq_data, n_top=20, show=False);"
   ]
  },
  {
   "cell_type": "markdown",
   "id": "f0ae5bfd",
   "metadata": {},
   "source": [
    "# Cell Type Balancing"
   ]
  },
  {
   "cell_type": "code",
   "execution_count": 20,
   "id": "1daf2af0",
   "metadata": {},
   "outputs": [],
   "source": [
    "celseq_cells_by_type = {}\n",
    "smartseq_cells_by_type = {}\n",
    "\n",
    "for t, cell in zip(smartseq_celltypes, smartseq_data.obs_names):\n",
    "    if t not in smartseq_cells_by_type:\n",
    "        smartseq_cells_by_type[t] = []\n",
    "    smartseq_cells_by_type[t].append(cell)\n",
    "\n",
    "for t, cell in zip(celseq_celltypes, celseq_data.obs_names):\n",
    "    if t not in celseq_cells_by_type:\n",
    "        celseq_cells_by_type[t] = []\n",
    "    celseq_cells_by_type[t].append(cell)"
   ]
  },
  {
   "cell_type": "code",
   "execution_count": 21,
   "id": "add9b4dc",
   "metadata": {},
   "outputs": [
    {
     "name": "stdout",
     "output_type": "stream",
     "text": [
      "alpha 844 1008\n",
      "endothelial 21 21\n",
      "delta 203 127\n",
      "beta 445 308\n",
      "ductal 257 444\n",
      "acinar 274 188\n",
      "mast 6 7\n",
      "gamma 110 213\n",
      "activated-stellate 90 55\n",
      "macrophage 15 7\n",
      "quiescent-stellate 12 6\n",
      "epsilon 4 8\n",
      "schwann 4 2\n"
     ]
    }
   ],
   "source": [
    "for k, v in celseq_cells_by_type.items():\n",
    "    print(k, len(v), len(smartseq_cells_by_type[k]))"
   ]
  },
  {
   "cell_type": "code",
   "execution_count": 22,
   "id": "4a5d5efb",
   "metadata": {},
   "outputs": [],
   "source": [
    "for t in celseq_cells_by_type:\n",
    "    random.shuffle(celseq_cells_by_type[t])\n",
    "    random.shuffle(smartseq_cells_by_type[t])\n",
    "    celseq_cells_by_type[t] = celseq_cells_by_type[t][:len(smartseq_cells_by_type[t])]\n",
    "    smartseq_cells_by_type[t] = smartseq_cells_by_type[t][:len(celseq_cells_by_type[t])]"
   ]
  },
  {
   "cell_type": "code",
   "execution_count": 23,
   "id": "e42ecc4b",
   "metadata": {},
   "outputs": [],
   "source": [
    "celseq_cell_type_dict = {}\n",
    "for k, v in celseq_cells_by_type.items():\n",
    "    for cell in v:\n",
    "        celseq_cell_type_dict[cell] = k"
   ]
  },
  {
   "cell_type": "code",
   "execution_count": 24,
   "id": "394db49e",
   "metadata": {},
   "outputs": [],
   "source": [
    "smartseq_cell_type_dict = {}\n",
    "for k, v in smartseq_cells_by_type.items():\n",
    "    for cell in v:\n",
    "        smartseq_cell_type_dict[cell] = k"
   ]
  },
  {
   "cell_type": "code",
   "execution_count": 25,
   "id": "e11c7c48",
   "metadata": {},
   "outputs": [],
   "source": [
    "celseq_selected_cells = [cell for v in celseq_cells_by_type.values() for cell in v]\n",
    "smartseq_selected_cells = [cell for v in smartseq_cells_by_type.values() for cell in v]\n",
    "\n",
    "random.shuffle(celseq_selected_cells)\n",
    "random.shuffle(smartseq_selected_cells)"
   ]
  },
  {
   "cell_type": "code",
   "execution_count": 26,
   "id": "42568672",
   "metadata": {},
   "outputs": [
    {
     "data": {
      "text/plain": [
       "(1935, 1935)"
      ]
     },
     "execution_count": 26,
     "metadata": {},
     "output_type": "execute_result"
    }
   ],
   "source": [
    "len(celseq_selected_cells), len(smartseq_selected_cells)"
   ]
  },
  {
   "cell_type": "code",
   "execution_count": 27,
   "id": "f3b3595d",
   "metadata": {},
   "outputs": [
    {
     "data": {
      "text/plain": [
       "((1935, 2808), (1935, 2808))"
      ]
     },
     "execution_count": 27,
     "metadata": {},
     "output_type": "execute_result"
    }
   ],
   "source": [
    "celseq_type_balanced_cell_vectors = celseq_data[celseq_selected_cells, rna_intersection]\n",
    "smartseq_type_balanced_cell_vectors = smartseq_data[smartseq_selected_cells, rna_intersection]\n",
    "celseq_type_balanced_cell_vectors.shape, smartseq_type_balanced_cell_vectors.shape"
   ]
  },
  {
   "cell_type": "code",
   "execution_count": 28,
   "id": "56a4896f",
   "metadata": {},
   "outputs": [],
   "source": [
    "celseq_cell_vectors = celseq_data[:, rna_intersection]\n",
    "smartseq_cell_vectors = smartseq_data[:, rna_intersection]"
   ]
  },
  {
   "cell_type": "code",
   "execution_count": 29,
   "id": "6e8fe11d",
   "metadata": {},
   "outputs": [],
   "source": [
    "cell_type_indices = {k : i for i, k in enumerate(celseq_cells_by_type.keys())}"
   ]
  },
  {
   "cell_type": "code",
   "execution_count": 30,
   "id": "7f78890b",
   "metadata": {},
   "outputs": [
    {
     "data": {
      "text/plain": [
       "{'alpha': 0,\n",
       " 'endothelial': 1,\n",
       " 'delta': 2,\n",
       " 'beta': 3,\n",
       " 'ductal': 4,\n",
       " 'acinar': 5,\n",
       " 'mast': 6,\n",
       " 'gamma': 7,\n",
       " 'activated-stellate': 8,\n",
       " 'macrophage': 9,\n",
       " 'quiescent-stellate': 10,\n",
       " 'epsilon': 11,\n",
       " 'schwann': 12}"
      ]
     },
     "execution_count": 30,
     "metadata": {},
     "output_type": "execute_result"
    }
   ],
   "source": [
    "cell_type_indices"
   ]
  },
  {
   "cell_type": "code",
   "execution_count": null,
   "id": "6a9db0d6",
   "metadata": {},
   "outputs": [],
   "source": []
  },
  {
   "cell_type": "markdown",
   "id": "d71a5f71",
   "metadata": {},
   "source": [
    "# Plotting"
   ]
  },
  {
   "cell_type": "code",
   "execution_count": 34,
   "id": "7487044b",
   "metadata": {},
   "outputs": [],
   "source": [
    "tmp = sc.AnnData(X = np.concatenate([celseq_type_balanced_cell_vectors.X.toarray(), \n",
    "                                     smartseq_type_balanced_cell_vectors.X.toarray()]))"
   ]
  },
  {
   "cell_type": "code",
   "execution_count": 35,
   "id": "151eb965",
   "metadata": {},
   "outputs": [],
   "source": [
    "tmp.obs['Cell Type'] = np.zeros(3870)\n",
    "tmp.obs['Cell Type'][:1935] = celseq_type_balanced_cell_vectors.obs['type']\n",
    "tmp.obs['Cell Type'][-1935:] = smartseq_type_balanced_cell_vectors.obs['type']\n",
    "\n",
    "tmp.obs['Dataset'] = 'CEL-seq2'\n",
    "tmp.obs['Dataset'][:1935] = 'Smart-seq2'"
   ]
  },
  {
   "cell_type": "code",
   "execution_count": 36,
   "id": "4923245c",
   "metadata": {},
   "outputs": [],
   "source": [
    "sc.pp.neighbors(tmp, use_rep='X')\n",
    "sc.tl.umap(tmp)"
   ]
  },
  {
   "cell_type": "code",
   "execution_count": 37,
   "id": "9cdb74aa",
   "metadata": {},
   "outputs": [
    {
     "data": {
      "image/png": "[encoded data removed]",
      "text/plain": [
       "<Figure size 432x288 with 1 Axes>"
      ]
     },
     "metadata": {
      "needs_background": "light"
     },
     "output_type": "display_data"
    }
   ],
   "source": [
    "hist_values = {k: len(v) for k, v in celseq_cells_by_type.items()}\n",
    "sorted_values = sorted([v, k] for k, v in hist_values.items())\n",
    "plt.bar(range(len(sorted_values)), [v[0] for v in sorted_values[::-1]]);\n",
    "plt.xticks(range(len(sorted_values)), [v[1] for v in sorted_values[::-1]], rotation=60, ha='right');\n",
    "# plt.savefig('celseq_smartseq_cell_types.pdf', bbox_inches = 'tight')"
   ]
  },
  {
   "cell_type": "code",
   "execution_count": 38,
   "id": "47b6971d",
   "metadata": {},
   "outputs": [
    {
     "data": {
      "image/png": "[encoded data removed]",
      "text/plain": [
       "<Figure size 1123.2x288 with 2 Axes>"
      ]
     },
     "metadata": {},
     "output_type": "display_data"
    }
   ],
   "source": [
    "sc.pl.umap(tmp, color=['Cell Type', 'Dataset'], wspace=0.3)"
   ]
  },
  {
   "cell_type": "code",
   "execution_count": null,
   "id": "ec6aab81",
   "metadata": {},
   "outputs": [],
   "source": []
  },
  {
   "cell_type": "markdown",
   "id": "cc5d1377",
   "metadata": {},
   "source": [
    "# Matching"
   ]
  },
  {
   "cell_type": "code",
   "execution_count": 40,
   "id": "5451855e",
   "metadata": {},
   "outputs": [],
   "source": [
    "def dist(x, y):\n",
    "    d =  np.linalg.norm(x - y) ** 2\n",
    "    return d if d > 0 else 1e-10\n",
    "\n",
    "def greedy(X, X_hash, num_to_match=None, return_cost=False, progress_bar=False):\n",
    "    costs = [0]\n",
    "    cost = 0\n",
    "    if num_to_match is None:\n",
    "        num_to_match = len(X)\n",
    "    n, m = len(X), len(X_hash)\n",
    "    M = np.zeros((n, m))\n",
    "    if progress_bar:\n",
    "        iterable = tqdm(enumerate(X), desc='Calculating pairwise distances', total=n)\n",
    "    else:\n",
    "        iterable = enumerate(X)\n",
    "    for i, x in iterable:\n",
    "        for j, x_hash in enumerate(X_hash):\n",
    "            M[i, j] = dist(x, x_hash)\n",
    "    pie = -1 * np.ones(n, dtype=np.int32)\n",
    "    for _ in range(num_to_match):\n",
    "        i, j = np.unravel_index(M.argmin(), M.shape)\n",
    "        pie[i] = j\n",
    "        cost += M[i, j]\n",
    "        costs.append(cost)\n",
    "        M[:, j] = np.inf\n",
    "        M[i, :] = np.inf\n",
    "\n",
    "    if return_cost:\n",
    "        return pie, costs\n",
    "\n",
    "    return pie\n",
    "\n",
    "from ortools.graph import pywrapgraph\n",
    "\n",
    "def MinCostFlow(X, X_hash, num_to_match = None, scale = 1000, sigma=None, return_cost=False):\n",
    "    n, m = (len(X), len(X_hash))\n",
    "    M = np.zeros(n * m)\n",
    "    for i, x in tqdm(enumerate(X), desc='Calculating pairwise distances', total=n):\n",
    "        for j, x_hash in enumerate(X_hash):\n",
    "            M[i * m + j] = dist(x, x_hash)\n",
    "        \n",
    "    if sigma is not None:\n",
    "        M = M / 2 / sigma / sigma\n",
    "    \n",
    "    min_cost_flow = pywrapgraph.SimpleMinCostFlow()\n",
    "    \n",
    "    start_nodes = np.concatenate((np.zeros(n), \n",
    "                                  np.repeat(np.arange(1, n + 1), m), \n",
    "                                  np.arange(n + 1, n + m + 1))).astype(int).tolist()\n",
    "    \n",
    "    end_nodes = np.concatenate((np.arange(1, n + 1), \n",
    "                                np.tile(np.arange(n + 1, n + m + 1), n), \n",
    "                                np.ones(m) * (n + m + 1))).astype(int).tolist()\n",
    "    \n",
    "    num_overall_edges = (n + 1) * (m + 1) - 1\n",
    "    capacities = np.ones(num_overall_edges).astype(int).tolist()\n",
    "    costs = (np.concatenate((np.zeros(n), M * scale ,np.zeros(m))).astype(int).tolist())\n",
    "    \n",
    "    source = 0\n",
    "    sink = n + m + 1\n",
    "    if num_to_match is None:\n",
    "        num_to_match = n\n",
    "    \n",
    "    supplies = [num_to_match] + [0] * (n + m) + [-num_to_match]\n",
    "    \n",
    "    # Add each arc.\n",
    "    for i in range(len(start_nodes)):\n",
    "        min_cost_flow.AddArcWithCapacityAndUnitCost(start_nodes[i],\n",
    "                                                    end_nodes[i], capacities[i],\n",
    "                                                    costs[i])\n",
    "    # Add node supplies.\n",
    "    for i in range(len(supplies)):\n",
    "        min_cost_flow.SetNodeSupply(i, supplies[i])\n",
    "    \n",
    "    status = min_cost_flow.Solve()\n",
    "    assignment = -1 * np.ones(n, dtype=np.int32)\n",
    "    if status == min_cost_flow.OPTIMAL:\n",
    "        for arc in range(min_cost_flow.NumArcs()):\n",
    "            # Can ignore arcs leading out of source or into sink.\n",
    "            if min_cost_flow.Tail(arc) != source and min_cost_flow.Head(arc) != sink:\n",
    "                # Arcs in the solution have a flow value of 1. Their start and end nodes\n",
    "                # give an assignment of worker to task.\n",
    "                if min_cost_flow.Flow(arc) > 0:\n",
    "                    assignment[min_cost_flow.Tail(arc) - 1] = min_cost_flow.Head(arc) - n - 1\n",
    "        \n",
    "    else:\n",
    "        print('There was an issue with the min cost flow input.')\n",
    "        print(f'Status: {status}')\n",
    "\n",
    "    if return_cost:\n",
    "        return assignment, min_cost_flow.OptimalCost() / scale\n",
    "    else:\n",
    "        return assignment\n",
    "\n"
   ]
  },
  {
   "cell_type": "code",
   "execution_count": null,
   "id": "f1bf07fb",
   "metadata": {},
   "outputs": [],
   "source": []
  },
  {
   "cell_type": "markdown",
   "id": "37023a91",
   "metadata": {},
   "source": [
    "## Experiment 1 (No Outliers)"
   ]
  },
  {
   "cell_type": "code",
   "execution_count": 41,
   "id": "5e01a027",
   "metadata": {},
   "outputs": [],
   "source": [
    "X = celseq_type_balanced_cell_vectors.to_df().values\n",
    "X_hash = smartseq_type_balanced_cell_vectors.to_df().values"
   ]
  },
  {
   "cell_type": "code",
   "execution_count": 42,
   "id": "72064849",
   "metadata": {},
   "outputs": [
    {
     "name": "stdout",
     "output_type": "stream",
     "text": [
      "(1935, 2808) (1935, 2808)\n"
     ]
    }
   ],
   "source": [
    "print(X.shape, X_hash.shape)"
   ]
  },
  {
   "cell_type": "code",
   "execution_count": 43,
   "id": "1833ec3b",
   "metadata": {},
   "outputs": [
    {
     "name": "stderr",
     "output_type": "stream",
     "text": [
      "Calculating pairwise distances: 100%|████████████████████████████████████████████████████████████████████████████████████████| 1935/1935 [00:44<00:00, 43.25it/s]\n"
     ]
    }
   ],
   "source": [
    "matching = MinCostFlow(X, X_hash, return_cost=False)"
   ]
  },
  {
   "cell_type": "code",
   "execution_count": 44,
   "id": "136cad51",
   "metadata": {},
   "outputs": [],
   "source": [
    "y_cel, y_smart = [], []\n",
    "for cel, smart in enumerate(matching):\n",
    "    y_cel.append(celseq_cell_type_dict[celseq_selected_cells[cel]])\n",
    "    y_smart.append(smartseq_cell_type_dict[smartseq_selected_cells[smart]])"
   ]
  },
  {
   "cell_type": "code",
   "execution_count": 45,
   "id": "8119492c",
   "metadata": {},
   "outputs": [],
   "source": [
    "cm = confusion_matrix([cell_type_indices[tp] for tp in y_cel],\n",
    "                      [cell_type_indices[tp] for tp in y_smart], normalize='true')\n",
    "cm = (cm * 100).astype(np.int32)"
   ]
  },
  {
   "cell_type": "code",
   "execution_count": 47,
   "id": "aba5cff3",
   "metadata": {},
   "outputs": [
    {
     "data": {
      "image/png": "[encoded data removed]",
      "text/plain": [
       "<Figure size 504x360 with 2 Axes>"
      ]
     },
     "metadata": {
      "needs_background": "light"
     },
     "output_type": "display_data"
    }
   ],
   "source": [
    "fig, ax = plt.subplots(1, 1, figsize=(7, 5))\n",
    "ConfusionMatrixDisplay(cm).plot(values_format='d', ax=ax, xticks_rotation='vertical');\n",
    "\n",
    "ax.set_yticklabels(map(lambda r: r.replace('_', '-'), cell_type_indices.keys()), size=7)\n",
    "ax.set_xticklabels(map(lambda r: r.replace('_', '-'), cell_type_indices.keys()), size=7)\n",
    "ax.set_xlabel('Smart-seq2 Cell Type', size=10)\n",
    "ax.set_ylabel('CEL-seq2 Cell Type', size=10);\n",
    "# fig.savefig('celseq_smartseq_confusion_matrics.pdf', bbox_inches = 'tight')"
   ]
  },
  {
   "cell_type": "code",
   "execution_count": 48,
   "id": "0d44744a",
   "metadata": {},
   "outputs": [
    {
     "name": "stdout",
     "output_type": "stream",
     "text": [
      "0.9741602067183462\n"
     ]
    }
   ],
   "source": [
    "print(accuracy_score(y_cel, y_smart))"
   ]
  },
  {
   "cell_type": "code",
   "execution_count": null,
   "id": "469eddea",
   "metadata": {},
   "outputs": [],
   "source": []
  },
  {
   "cell_type": "code",
   "execution_count": null,
   "id": "c241f552",
   "metadata": {},
   "outputs": [],
   "source": []
  },
  {
   "cell_type": "markdown",
   "id": "2cca609c",
   "metadata": {},
   "source": [
    "## Experiment 2 (Outlier cell types in **both sets**, estimation of the number of inliers)"
   ]
  },
  {
   "attachments": {
    "image.png": {
     "image/png": "[encoded data removed]"
    }
   },
   "cell_type": "markdown",
   "id": "1c9ef111",
   "metadata": {},
   "source": [
    "![image.png](attachment:image.png)"
   ]
  },
  {
   "cell_type": "code",
   "execution_count": 56,
   "id": "a9a7a268",
   "metadata": {},
   "outputs": [],
   "source": [
    "def lambda_nmda(n, m, d, alpha = 0.01):\n",
    "    return 4 * max(np.power(d * np.log(4 * n * m / alpha), 1 / 4),\n",
    "                   np.power(8 * np.log(4 * n * m / alpha), 1 / 2) )\n",
    "\n",
    "def k_sig_joint_est(X, X_hash, progress_bar=True, matcher=greedy):\n",
    "    n = len(X)\n",
    "    m = len(X_hash)\n",
    "    d = len(X[0])\n",
    "    lambda_nmd = lambda_nmda(n, m, d)\n",
    "    lbd = np.square(lambda_nmd) / 4\n",
    "    gamma = lbd / d\n",
    "    res = {}\n",
    "    \n",
    "    _, costs = matcher(X, X_hash, num_to_match=n, return_cost=True, progress_bar=progress_bar)\n",
    "    \n",
    "    for k in range(1, n - 1):\n",
    "        sigma_hat_sq = costs[k] / (k) / d\n",
    "        if costs[k + 1] - costs[k] > (d + lbd) * sigma_hat_sq / (1 - gamma):\n",
    "            break\n",
    "            \n",
    "    res['k_alpha'] = k\n",
    "    res['sigma_hat'] = np.sqrt(sigma_hat_sq / 2)\n",
    "    return res"
   ]
  },
  {
   "cell_type": "code",
   "execution_count": 58,
   "id": "da862826",
   "metadata": {
    "scrolled": true
   },
   "outputs": [
    {
     "name": "stderr",
     "output_type": "stream",
     "text": [
      "Calculating pairwise distances: 100%|████████████████████████████████████████████████████████████████████████████████████████| 1808/1808 [00:34<00:00, 52.34it/s]\n"
     ]
    },
    {
     "name": "stdout",
     "output_type": "stream",
     "text": [
      "Results for Types  ---  delta : beta\n",
      "Set Sizes  ---  1808 : 1627\n",
      "True Number of Inliers = 1500 \n",
      "Predictions = {'k_alpha': 1593, 'sigma_hat': 0.3092298378093878}\n"
     ]
    },
    {
     "name": "stderr",
     "output_type": "stream",
     "text": [
      "Calculating pairwise distances: 100%|████████████████████████████████████████████████████████████████████████████████████████| 1808/1808 [00:36<00:00, 49.68it/s]\n"
     ]
    },
    {
     "name": "stdout",
     "output_type": "stream",
     "text": [
      "Results for Types  ---  delta : ductal\n",
      "Set Sizes  ---  1808 : 1678\n",
      "True Number of Inliers = 1551 \n",
      "Predictions = {'k_alpha': 1543, 'sigma_hat': 0.2992985117755967}\n"
     ]
    },
    {
     "name": "stderr",
     "output_type": "stream",
     "text": [
      "Calculating pairwise distances: 100%|████████████████████████████████████████████████████████████████████████████████████████| 1808/1808 [00:38<00:00, 47.55it/s]\n"
     ]
    },
    {
     "name": "stdout",
     "output_type": "stream",
     "text": [
      "Results for Types  ---  delta : acinar\n",
      "Set Sizes  ---  1808 : 1747\n",
      "True Number of Inliers = 1620 \n",
      "Predictions = {'k_alpha': 1595, 'sigma_hat': 0.30735612611618857}\n"
     ]
    },
    {
     "name": "stderr",
     "output_type": "stream",
     "text": [
      "Calculating pairwise distances: 100%|████████████████████████████████████████████████████████████████████████████████████████| 1808/1808 [00:39<00:00, 45.67it/s]\n"
     ]
    },
    {
     "name": "stdout",
     "output_type": "stream",
     "text": [
      "Results for Types  ---  delta : gamma\n",
      "Set Sizes  ---  1808 : 1825\n",
      "True Number of Inliers = 1698 \n",
      "Predictions = {'k_alpha': 1768, 'sigma_hat': 0.309470210822294}\n"
     ]
    },
    {
     "name": "stderr",
     "output_type": "stream",
     "text": [
      "Calculating pairwise distances: 100%|████████████████████████████████████████████████████████████████████████████████████████| 1627/1627 [00:35<00:00, 46.27it/s]\n"
     ]
    },
    {
     "name": "stdout",
     "output_type": "stream",
     "text": [
      "Results for Types  ---  beta : delta\n",
      "Set Sizes  ---  1627 : 1808\n",
      "True Number of Inliers = 1500 \n",
      "Predictions = {'k_alpha': 1589, 'sigma_hat': 0.3093110997900585}\n"
     ]
    },
    {
     "name": "stderr",
     "output_type": "stream",
     "text": [
      "Calculating pairwise distances: 100%|████████████████████████████████████████████████████████████████████████████████████████| 1627/1627 [00:31<00:00, 51.44it/s]\n"
     ]
    },
    {
     "name": "stdout",
     "output_type": "stream",
     "text": [
      "Results for Types  ---  beta : ductal\n",
      "Set Sizes  ---  1627 : 1678\n",
      "True Number of Inliers = 1370 \n",
      "Predictions = {'k_alpha': 1361, 'sigma_hat': 0.29697559128273554}\n"
     ]
    },
    {
     "name": "stderr",
     "output_type": "stream",
     "text": [
      "Calculating pairwise distances: 100%|████████████████████████████████████████████████████████████████████████████████████████| 1627/1627 [00:32<00:00, 50.60it/s]\n"
     ]
    },
    {
     "name": "stdout",
     "output_type": "stream",
     "text": [
      "Results for Types  ---  beta : acinar\n",
      "Set Sizes  ---  1627 : 1747\n",
      "True Number of Inliers = 1439 \n",
      "Predictions = {'k_alpha': 1414, 'sigma_hat': 0.30633011472701954}\n"
     ]
    },
    {
     "name": "stderr",
     "output_type": "stream",
     "text": [
      "Calculating pairwise distances: 100%|████████████████████████████████████████████████████████████████████████████████████████| 1627/1627 [00:33<00:00, 47.91it/s]\n"
     ]
    },
    {
     "name": "stdout",
     "output_type": "stream",
     "text": [
      "Results for Types  ---  beta : gamma\n",
      "Set Sizes  ---  1627 : 1825\n",
      "True Number of Inliers = 1517 \n",
      "Predictions = {'k_alpha': 1588, 'sigma_hat': 0.3079923841468354}\n"
     ]
    },
    {
     "name": "stderr",
     "output_type": "stream",
     "text": [
      "Calculating pairwise distances: 100%|████████████████████████████████████████████████████████████████████████████████████████| 1678/1678 [00:35<00:00, 47.57it/s]\n"
     ]
    },
    {
     "name": "stdout",
     "output_type": "stream",
     "text": [
      "Results for Types  ---  ductal : delta\n",
      "Set Sizes  ---  1678 : 1808\n",
      "True Number of Inliers = 1551 \n",
      "Predictions = {'k_alpha': 1546, 'sigma_hat': 0.3014558540218777}\n"
     ]
    },
    {
     "name": "stderr",
     "output_type": "stream",
     "text": [
      "Calculating pairwise distances: 100%|████████████████████████████████████████████████████████████████████████████████████████| 1678/1678 [00:31<00:00, 52.68it/s]\n"
     ]
    },
    {
     "name": "stdout",
     "output_type": "stream",
     "text": [
      "Results for Types  ---  ductal : beta\n",
      "Set Sizes  ---  1678 : 1627\n",
      "True Number of Inliers = 1370 \n",
      "Predictions = {'k_alpha': 1366, 'sigma_hat': 0.298870254993283}\n"
     ]
    },
    {
     "name": "stderr",
     "output_type": "stream",
     "text": [
      "Calculating pairwise distances: 100%|████████████████████████████████████████████████████████████████████████████████████████| 1678/1678 [00:33<00:00, 50.33it/s]\n"
     ]
    },
    {
     "name": "stdout",
     "output_type": "stream",
     "text": [
      "Results for Types  ---  ductal : acinar\n",
      "Set Sizes  ---  1678 : 1747\n",
      "True Number of Inliers = 1490 \n",
      "Predictions = {'k_alpha': 1556, 'sigma_hat': 0.3070991923964168}\n"
     ]
    },
    {
     "name": "stderr",
     "output_type": "stream",
     "text": [
      "Calculating pairwise distances: 100%|████████████████████████████████████████████████████████████████████████████████████████| 1678/1678 [00:34<00:00, 48.16it/s]\n"
     ]
    },
    {
     "name": "stdout",
     "output_type": "stream",
     "text": [
      "Results for Types  ---  ductal : gamma\n",
      "Set Sizes  ---  1678 : 1825\n",
      "True Number of Inliers = 1568 \n",
      "Predictions = {'k_alpha': 1561, 'sigma_hat': 0.29963502698872624}\n"
     ]
    },
    {
     "name": "stderr",
     "output_type": "stream",
     "text": [
      "Calculating pairwise distances: 100%|████████████████████████████████████████████████████████████████████████████████████████| 1747/1747 [00:35<00:00, 48.95it/s]\n"
     ]
    },
    {
     "name": "stdout",
     "output_type": "stream",
     "text": [
      "Results for Types  ---  acinar : delta\n",
      "Set Sizes  ---  1747 : 1808\n",
      "True Number of Inliers = 1620 \n",
      "Predictions = {'k_alpha': 1612, 'sigma_hat': 0.30976454183291224}\n"
     ]
    },
    {
     "name": "stderr",
     "output_type": "stream",
     "text": [
      "Calculating pairwise distances: 100%|████████████████████████████████████████████████████████████████████████████████████████| 1747/1747 [00:32<00:00, 54.06it/s]\n"
     ]
    },
    {
     "name": "stdout",
     "output_type": "stream",
     "text": [
      "Results for Types  ---  acinar : beta\n",
      "Set Sizes  ---  1747 : 1627\n",
      "True Number of Inliers = 1439 \n",
      "Predictions = {'k_alpha': 1432, 'sigma_hat': 0.3084193121334245}\n"
     ]
    },
    {
     "name": "stderr",
     "output_type": "stream",
     "text": [
      "Calculating pairwise distances: 100%|████████████████████████████████████████████████████████████████████████████████████████| 1747/1747 [00:32<00:00, 52.96it/s]\n"
     ]
    },
    {
     "name": "stdout",
     "output_type": "stream",
     "text": [
      "Results for Types  ---  acinar : ductal\n",
      "Set Sizes  ---  1747 : 1678\n",
      "True Number of Inliers = 1490 \n",
      "Predictions = {'k_alpha': 1588, 'sigma_hat': 0.3089906113848334}\n"
     ]
    },
    {
     "name": "stderr",
     "output_type": "stream",
     "text": [
      "Calculating pairwise distances: 100%|████████████████████████████████████████████████████████████████████████████████████████| 1747/1747 [00:35<00:00, 48.56it/s]\n"
     ]
    },
    {
     "name": "stdout",
     "output_type": "stream",
     "text": [
      "Results for Types  ---  acinar : gamma\n",
      "Set Sizes  ---  1747 : 1825\n",
      "True Number of Inliers = 1637 \n",
      "Predictions = {'k_alpha': 1630, 'sigma_hat': 0.30825112962872875}\n"
     ]
    },
    {
     "name": "stderr",
     "output_type": "stream",
     "text": [
      "Calculating pairwise distances: 100%|████████████████████████████████████████████████████████████████████████████████████████| 1825/1825 [00:37<00:00, 48.50it/s]\n"
     ]
    },
    {
     "name": "stdout",
     "output_type": "stream",
     "text": [
      "Results for Types  ---  gamma : delta\n",
      "Set Sizes  ---  1825 : 1808\n",
      "True Number of Inliers = 1698 \n",
      "Predictions = {'k_alpha': 1773, 'sigma_hat': 0.3106672783465567}\n"
     ]
    },
    {
     "name": "stderr",
     "output_type": "stream",
     "text": [
      "Calculating pairwise distances: 100%|████████████████████████████████████████████████████████████████████████████████████████| 1825/1825 [00:34<00:00, 52.92it/s]\n"
     ]
    },
    {
     "name": "stdout",
     "output_type": "stream",
     "text": [
      "Results for Types  ---  gamma : beta\n",
      "Set Sizes  ---  1825 : 1627\n",
      "True Number of Inliers = 1517 \n",
      "Predictions = {'k_alpha': 1593, 'sigma_hat': 0.30866448159411364}\n"
     ]
    },
    {
     "name": "stderr",
     "output_type": "stream",
     "text": [
      "Calculating pairwise distances: 100%|████████████████████████████████████████████████████████████████████████████████████████| 1825/1825 [00:35<00:00, 51.12it/s]\n"
     ]
    },
    {
     "name": "stdout",
     "output_type": "stream",
     "text": [
      "Results for Types  ---  gamma : ductal\n",
      "Set Sizes  ---  1825 : 1678\n",
      "True Number of Inliers = 1568 \n",
      "Predictions = {'k_alpha': 1559, 'sigma_hat': 0.29853191890762926}\n"
     ]
    },
    {
     "name": "stderr",
     "output_type": "stream",
     "text": [
      "Calculating pairwise distances: 100%|████████████████████████████████████████████████████████████████████████████████████████| 1825/1825 [00:36<00:00, 49.61it/s]\n"
     ]
    },
    {
     "name": "stdout",
     "output_type": "stream",
     "text": [
      "Results for Types  ---  gamma : acinar\n",
      "Set Sizes  ---  1825 : 1747\n",
      "True Number of Inliers = 1637 \n",
      "Predictions = {'k_alpha': 1612, 'sigma_hat': 0.30665448983829374}\n"
     ]
    }
   ],
   "source": [
    "types_to_remove = ['delta', 'beta', 'ductal', 'acinar', 'gamma']\n",
    "for type_cell in types_to_remove:\n",
    "    for type_smart in types_to_remove:\n",
    "        if type_cell == type_smart:\n",
    "            continue\n",
    "        X = celseq_type_balanced_cell_vectors.to_df().values[celseq_type_balanced_cell_vectors.obs['type'] != type_cell]\n",
    "        X_hash = smartseq_type_balanced_cell_vectors.to_df().values[smartseq_type_balanced_cell_vectors.obs['type'] != type_smart]\n",
    "        true_k = len(celseq_type_balanced_cell_vectors) - len(celseq_cells_by_type[type_cell]) - len(smartseq_cells_by_type[type_smart])\n",
    "        res = k_sig_joint_est(X, X_hash, progress_bar=True)\n",
    "        print(f'Results for Types  ---  {type_cell} : {type_smart}')\n",
    "        print(f'Set Sizes  ---  {len(X)} : {len(X_hash)}')\n",
    "        print(f'True Number of Inliers = {true_k} ')\n",
    "        print(f'Predictions = {res}')\n",
    "\n",
    "        \n"
   ]
  },
  {
   "cell_type": "code",
   "execution_count": null,
   "id": "ccbbb80a",
   "metadata": {},
   "outputs": [],
   "source": []
  },
  {
   "cell_type": "code",
   "execution_count": null,
   "id": "c8a4f3d9",
   "metadata": {},
   "outputs": [],
   "source": []
  },
  {
   "cell_type": "code",
   "execution_count": null,
   "id": "78865294",
   "metadata": {},
   "outputs": [],
   "source": []
  }
 ],
 "metadata": {
  "kernelspec": {
   "display_name": "Python 3 (ipykernel)",
   "language": "python",
   "name": "python3"
  },
  "language_info": {
   "codemirror_mode": {
    "name": "ipython",
    "version": 3
   },
   "file_extension": ".py",
   "mimetype": "text/x-python",
   "name": "python",
   "nbconvert_exporter": "python",
   "pygments_lexer": "ipython3",
   "version": "3.9.0"
  }
 },
 "nbformat": 4,
 "nbformat_minor": 5
}
